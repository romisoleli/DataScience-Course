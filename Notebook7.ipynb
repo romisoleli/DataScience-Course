{
  "nbformat": 4,
  "nbformat_minor": 0,
  "metadata": {
    "colab": {
      "provenance": [],
      "authorship_tag": "ABX9TyN+S8sehDTxTB9Kw3LGpehf",
      "include_colab_link": true
    },
    "kernelspec": {
      "name": "python3",
      "display_name": "Python 3"
    },
    "language_info": {
      "name": "python"
    }
  },
  "cells": [
    {
      "cell_type": "markdown",
      "metadata": {
        "id": "view-in-github",
        "colab_type": "text"
      },
      "source": [
        "<a href=\"https://colab.research.google.com/github/romisoleli/DataScience-Course/blob/main/Notebook7.ipynb\" target=\"_parent\"><img src=\"https://colab.research.google.com/assets/colab-badge.svg\" alt=\"Open In Colab\"/></a>"
      ]
    },
    {
      "cell_type": "markdown",
      "source": [
        "**NOTEBOOK 7**"
      ],
      "metadata": {
        "id": "TB57ApD0rORO"
      }
    },
    {
      "cell_type": "markdown",
      "source": [
        "**1) Importa las librerias requeridas: `Pandas` y `NumPy`**"
      ],
      "metadata": {
        "id": "rWuH_1b0q3e6"
      }
    },
    {
      "cell_type": "code",
      "execution_count": 36,
      "metadata": {
        "colab": {
          "base_uri": "https://localhost:8080/"
        },
        "collapsed": true,
        "id": "Fab9TL2VqqCr",
        "outputId": "402f621b-da70-48d2-c9f1-cc4c85a21088"
      },
      "outputs": [
        {
          "output_type": "stream",
          "name": "stdout",
          "text": [
            "version 2.0.2\n"
          ]
        }
      ],
      "source": [
        "import pandas as pd\n",
        "import numpy as np\n",
        "print (\"version\", np.__version__)"
      ]
    },
    {
      "cell_type": "markdown",
      "source": [
        "**2) Lee el archivo csv life_expectancy_data usando pandas. Guardalo en una variable llamada expvida**"
      ],
      "metadata": {
        "id": "-YwfT5IQvW3e"
      }
    },
    {
      "cell_type": "code",
      "source": [
        "expvida = pd.read_csv('Life_Expectancy_Data (2).csv')\n",
        "print(expvida)"
      ],
      "metadata": {
        "colab": {
          "base_uri": "https://localhost:8080/"
        },
        "id": "5o9qmmZRrgho",
        "outputId": "6c207118-9747-407c-9b5d-cb7d42336956"
      },
      "execution_count": 8,
      "outputs": [
        {
          "output_type": "stream",
          "name": "stdout",
          "text": [
            "          Country  Year      Status  Life expectancy   Adult Mortality  \\\n",
            "0     Afghanistan  2015  Developing              65.0            263.0   \n",
            "1     Afghanistan  2014  Developing              59.9            271.0   \n",
            "2     Afghanistan  2013  Developing              59.9            268.0   \n",
            "3     Afghanistan  2012  Developing              59.5            272.0   \n",
            "4     Afghanistan  2011  Developing              59.2            275.0   \n",
            "...           ...   ...         ...               ...              ...   \n",
            "2933     Zimbabwe  2004  Developing              44.3            723.0   \n",
            "2934     Zimbabwe  2003  Developing              44.5            715.0   \n",
            "2935     Zimbabwe  2002  Developing              44.8             73.0   \n",
            "2936     Zimbabwe  2001  Developing              45.3            686.0   \n",
            "2937     Zimbabwe  2000  Developing              46.0            665.0   \n",
            "\n",
            "      infant deaths  Alcohol  percentage expenditure  Hepatitis B  Measles   \\\n",
            "0                62     0.01               71.279624         65.0      1154   \n",
            "1                64     0.01               73.523582         62.0       492   \n",
            "2                66     0.01               73.219243         64.0       430   \n",
            "3                69     0.01               78.184215         67.0      2787   \n",
            "4                71     0.01                7.097109         68.0      3013   \n",
            "...             ...      ...                     ...          ...       ...   \n",
            "2933             27     4.36                0.000000         68.0        31   \n",
            "2934             26     4.06                0.000000          7.0       998   \n",
            "2935             25     4.43                0.000000         73.0       304   \n",
            "2936             25     1.72                0.000000         76.0       529   \n",
            "2937             24     1.68                0.000000         79.0      1483   \n",
            "\n",
            "      ...  Polio  Total expenditure  Diphtheria    HIV/AIDS         GDP  \\\n",
            "0     ...    6.0               8.16         65.0        0.1  584.259210   \n",
            "1     ...   58.0               8.18         62.0        0.1  612.696514   \n",
            "2     ...   62.0               8.13         64.0        0.1  631.744976   \n",
            "3     ...   67.0               8.52         67.0        0.1  669.959000   \n",
            "4     ...   68.0               7.87         68.0        0.1   63.537231   \n",
            "...   ...    ...                ...          ...        ...         ...   \n",
            "2933  ...   67.0               7.13         65.0       33.6  454.366654   \n",
            "2934  ...    7.0               6.52         68.0       36.7  453.351155   \n",
            "2935  ...   73.0               6.53         71.0       39.8   57.348340   \n",
            "2936  ...   76.0               6.16         75.0       42.1  548.587312   \n",
            "2937  ...   78.0               7.10         78.0       43.5  547.358878   \n",
            "\n",
            "      Population   thinness  1-19 years   thinness 5-9 years  \\\n",
            "0     33736494.0                   17.2                 17.3   \n",
            "1       327582.0                   17.5                 17.5   \n",
            "2     31731688.0                   17.7                 17.7   \n",
            "3      3696958.0                   17.9                 18.0   \n",
            "4      2978599.0                   18.2                 18.2   \n",
            "...          ...                    ...                  ...   \n",
            "2933  12777511.0                    9.4                  9.4   \n",
            "2934  12633897.0                    9.8                  9.9   \n",
            "2935    125525.0                    1.2                  1.3   \n",
            "2936  12366165.0                    1.6                  1.7   \n",
            "2937  12222251.0                   11.0                 11.2   \n",
            "\n",
            "      Income composition of resources  Schooling  \n",
            "0                               0.479       10.1  \n",
            "1                               0.476       10.0  \n",
            "2                               0.470        9.9  \n",
            "3                               0.463        9.8  \n",
            "4                               0.454        9.5  \n",
            "...                               ...        ...  \n",
            "2933                            0.407        9.2  \n",
            "2934                            0.418        9.5  \n",
            "2935                            0.427       10.0  \n",
            "2936                            0.427        9.8  \n",
            "2937                            0.434        9.8  \n",
            "\n",
            "[2938 rows x 22 columns]\n"
          ]
        }
      ]
    },
    {
      "cell_type": "markdown",
      "source": [
        "**3)¿Que tipo de estructura de datos contiene la variable expvida?**"
      ],
      "metadata": {
        "id": "ameH6SWftD6S"
      }
    },
    {
      "cell_type": "code",
      "source": [
        "type(expvida)\n",
        "print(type(expvida))"
      ],
      "metadata": {
        "colab": {
          "base_uri": "https://localhost:8080/"
        },
        "collapsed": true,
        "id": "IS0UNmkntN64",
        "outputId": "ba9039b3-091f-4dec-ec35-73d4772f5a37"
      },
      "execution_count": 6,
      "outputs": [
        {
          "output_type": "stream",
          "name": "stdout",
          "text": [
            "<class 'pandas.core.frame.DataFrame'>\n"
          ]
        }
      ]
    },
    {
      "cell_type": "markdown",
      "source": [
        "**4) ¿Cuantas filas y columnas tiene expvida?**"
      ],
      "metadata": {
        "id": "AWB7t9uvvBS8"
      }
    },
    {
      "cell_type": "code",
      "source": [
        "expvida.shape\n",
        "fil, col = expvida.shape\n",
        "print(\"La tabla tiene\",fil,\"filas y\",col,\"columnas.\")"
      ],
      "metadata": {
        "colab": {
          "base_uri": "https://localhost:8080/"
        },
        "collapsed": true,
        "id": "ehq-avk3vIm7",
        "outputId": "390581ce-aa75-421b-d030-d604253c0fc9"
      },
      "execution_count": 29,
      "outputs": [
        {
          "output_type": "stream",
          "name": "stdout",
          "text": [
            "La tabla tiene 2938 filas y 22 columnas.\n"
          ]
        }
      ]
    },
    {
      "cell_type": "markdown",
      "source": [
        "**5) ¿Cual es el nombre de las columnas contenidas en expvida?**"
      ],
      "metadata": {
        "id": "iWebC7Fcx_Ii"
      }
    },
    {
      "cell_type": "code",
      "source": [
        "expvida.columns\n",
        "print(expvida.columns)"
      ],
      "metadata": {
        "colab": {
          "base_uri": "https://localhost:8080/"
        },
        "collapsed": true,
        "id": "9tUkx75gv9nR",
        "outputId": "d78e09ad-8be3-478b-93c4-b06afddcf0d2"
      },
      "execution_count": 17,
      "outputs": [
        {
          "output_type": "stream",
          "name": "stdout",
          "text": [
            "Index(['Country', 'Year', 'Status', 'Life expectancy ', 'Adult Mortality',\n",
            "       'infant deaths', 'Alcohol', 'percentage expenditure', 'Hepatitis B',\n",
            "       'Measles ', ' BMI ', 'under-five deaths ', 'Polio', 'Total expenditure',\n",
            "       'Diphtheria ', ' HIV/AIDS', 'GDP', 'Population',\n",
            "       ' thinness  1-19 years', ' thinness 5-9 years',\n",
            "       'Income composition of resources', 'Schooling'],\n",
            "      dtype='object')\n"
          ]
        }
      ]
    },
    {
      "cell_type": "markdown",
      "source": [
        "**6) Inspecciona las primeras 10 filas de expvida**"
      ],
      "metadata": {
        "id": "7RjrUsgVydOK"
      }
    },
    {
      "cell_type": "code",
      "source": [
        "expvida.head(10)\n",
        "print(expvida.head(10))"
      ],
      "metadata": {
        "colab": {
          "base_uri": "https://localhost:8080/"
        },
        "collapsed": true,
        "id": "DtCZ-FJZ1Wjw",
        "outputId": "f4f735ad-f9c9-42bf-f28b-f791fc038b93"
      },
      "execution_count": 19,
      "outputs": [
        {
          "output_type": "stream",
          "name": "stdout",
          "text": [
            "       Country  Year      Status  Life expectancy   Adult Mortality  \\\n",
            "0  Afghanistan  2015  Developing              65.0              263   \n",
            "1  Afghanistan  2014  Developing              59.9              271   \n",
            "2  Afghanistan  2013  Developing              59.9              268   \n",
            "3  Afghanistan  2012  Developing              59.5              272   \n",
            "4  Afghanistan  2011  Developing              59.2              275   \n",
            "5  Afghanistan  2010  Developing              58.8              279   \n",
            "6  Afghanistan  2009  Developing              58.6              281   \n",
            "7  Afghanistan  2008  Developing              58.1              287   \n",
            "8  Afghanistan  2007  Developing              57.5              295   \n",
            "9  Afghanistan  2006  Developing              57.3              295   \n",
            "\n",
            "   infant deaths  Alcohol  percentage expenditure  Hepatitis B  Measles   ...  \\\n",
            "0             62     0.01               71.279624           65      1154  ...   \n",
            "1             64     0.01               73.523582           62       492  ...   \n",
            "2             66     0.01               73.219243           64       430  ...   \n",
            "3             69     0.01               78.184215           67      2787  ...   \n",
            "4             71     0.01                7.097109           68      3013  ...   \n",
            "5             74     0.01               79.679367           66      1989  ...   \n",
            "6             77     0.01               56.762217           63      2861  ...   \n",
            "7             80     0.03               25.873925           64      1599  ...   \n",
            "8             82     0.02               10.910156           63      1141  ...   \n",
            "9             84     0.03               17.171518           64      1990  ...   \n",
            "\n",
            "   Polio  Total expenditure  Diphtheria    HIV/AIDS         GDP  Population  \\\n",
            "0      6               8.16           65        0.1  584.259210  33736494.0   \n",
            "1     58               8.18           62        0.1  612.696514    327582.0   \n",
            "2     62               8.13           64        0.1  631.744976  31731688.0   \n",
            "3     67               8.52           67        0.1  669.959000   3696958.0   \n",
            "4     68               7.87           68        0.1   63.537231   2978599.0   \n",
            "5     66               9.20           66        0.1  553.328940   2883167.0   \n",
            "6     63               9.42           63        0.1  445.893298    284331.0   \n",
            "7     64               8.33           64        0.1  373.361116   2729431.0   \n",
            "8     63               6.73           63        0.1  369.835796  26616792.0   \n",
            "9     58               7.43           58        0.1  272.563770   2589345.0   \n",
            "\n",
            "    thinness  1-19 years   thinness 5-9 years  \\\n",
            "0                   17.2                 17.3   \n",
            "1                   17.5                 17.5   \n",
            "2                   17.7                 17.7   \n",
            "3                   17.9                 18.0   \n",
            "4                   18.2                 18.2   \n",
            "5                   18.4                 18.4   \n",
            "6                   18.6                 18.7   \n",
            "7                   18.8                 18.9   \n",
            "8                   19.0                 19.1   \n",
            "9                   19.2                 19.3   \n",
            "\n",
            "   Income composition of resources  Schooling  \n",
            "0                            0.479       10.1  \n",
            "1                            0.476       10.0  \n",
            "2                            0.470        9.9  \n",
            "3                            0.463        9.8  \n",
            "4                            0.454        9.5  \n",
            "5                            0.448        9.2  \n",
            "6                            0.434        8.9  \n",
            "7                            0.433        8.7  \n",
            "8                            0.415        8.4  \n",
            "9                            0.405        8.1  \n",
            "\n",
            "[10 rows x 22 columns]\n"
          ]
        }
      ]
    },
    {
      "cell_type": "markdown",
      "source": [
        "**7) Y ahora las 10 ultimas.**"
      ],
      "metadata": {
        "id": "0iV6YVoO3Ojh"
      }
    },
    {
      "cell_type": "code",
      "source": [
        "expvida.tail(10)\n",
        "print(expvida.tail(10))"
      ],
      "metadata": {
        "colab": {
          "base_uri": "https://localhost:8080/"
        },
        "collapsed": true,
        "id": "Rbar1ILC3fur",
        "outputId": "2737cf82-0d63-40c7-99c4-c374579f1486"
      },
      "execution_count": 20,
      "outputs": [
        {
          "output_type": "stream",
          "name": "stdout",
          "text": [
            "       Country  Year      Status  Life expectancy   Adult Mortality  \\\n",
            "1639  Zimbabwe  2009  Developing              50.0              587   \n",
            "1640  Zimbabwe  2008  Developing              48.2              632   \n",
            "1641  Zimbabwe  2007  Developing              46.6               67   \n",
            "1642  Zimbabwe  2006  Developing              45.4                7   \n",
            "1643  Zimbabwe  2005  Developing              44.6              717   \n",
            "1644  Zimbabwe  2004  Developing              44.3              723   \n",
            "1645  Zimbabwe  2003  Developing              44.5              715   \n",
            "1646  Zimbabwe  2002  Developing              44.8               73   \n",
            "1647  Zimbabwe  2001  Developing              45.3              686   \n",
            "1648  Zimbabwe  2000  Developing              46.0              665   \n",
            "\n",
            "      infant deaths  Alcohol  percentage expenditure  Hepatitis B  Measles   \\\n",
            "1639             30     4.64                1.040021           73       853   \n",
            "1640             30     3.56               20.843429           75         0   \n",
            "1641             29     3.88               29.814566           72       242   \n",
            "1642             28     4.57               34.262169           68       212   \n",
            "1643             28     4.14                8.717409           65       420   \n",
            "1644             27     4.36                0.000000           68        31   \n",
            "1645             26     4.06                0.000000            7       998   \n",
            "1646             25     4.43                0.000000           73       304   \n",
            "1647             25     1.72                0.000000           76       529   \n",
            "1648             24     1.68                0.000000           79      1483   \n",
            "\n",
            "      ...  Polio  Total expenditure  Diphtheria    HIV/AIDS         GDP  \\\n",
            "1639  ...     69               6.26           73       18.1   65.824121   \n",
            "1640  ...     75               4.96           75       20.5  325.678573   \n",
            "1641  ...     73               4.47           73       23.7  396.998217   \n",
            "1642  ...     71               5.12            7       26.8  414.796232   \n",
            "1643  ...     69               6.44           68       30.3  444.765750   \n",
            "1644  ...     67               7.13           65       33.6  454.366654   \n",
            "1645  ...      7               6.52           68       36.7  453.351155   \n",
            "1646  ...     73               6.53           71       39.8   57.348340   \n",
            "1647  ...     76               6.16           75       42.1  548.587312   \n",
            "1648  ...     78               7.10           78       43.5  547.358878   \n",
            "\n",
            "      Population   thinness  1-19 years   thinness 5-9 years  \\\n",
            "1639   1381599.0                    7.5                  7.4   \n",
            "1640  13558469.0                    7.8                  7.8   \n",
            "1641   1332999.0                    8.2                  8.2   \n",
            "1642  13124267.0                    8.6                  8.6   \n",
            "1643    129432.0                    9.0                  9.0   \n",
            "1644  12777511.0                    9.4                  9.4   \n",
            "1645  12633897.0                    9.8                  9.9   \n",
            "1646    125525.0                    1.2                  1.3   \n",
            "1647  12366165.0                    1.6                  1.7   \n",
            "1648  12222251.0                   11.0                 11.2   \n",
            "\n",
            "      Income composition of resources  Schooling  \n",
            "1639                            0.419        9.9  \n",
            "1640                            0.421        9.7  \n",
            "1641                            0.414        9.6  \n",
            "1642                            0.408        9.5  \n",
            "1643                            0.406        9.3  \n",
            "1644                            0.407        9.2  \n",
            "1645                            0.418        9.5  \n",
            "1646                            0.427       10.0  \n",
            "1647                            0.427        9.8  \n",
            "1648                            0.434        9.8  \n",
            "\n",
            "[10 rows x 22 columns]\n"
          ]
        }
      ]
    },
    {
      "cell_type": "markdown",
      "source": [
        "**8) ¿Que tipos de datos contiene cada una de las columnas de expvida?**"
      ],
      "metadata": {
        "id": "1LHRbNFX16dn"
      }
    },
    {
      "cell_type": "code",
      "source": [
        "expvida.dtypes\n",
        "print(expvida.dtypes)"
      ],
      "metadata": {
        "colab": {
          "base_uri": "https://localhost:8080/"
        },
        "id": "oHI5FDxq4Le5",
        "outputId": "218e40be-b78c-4800-8599-ddce67225236"
      },
      "execution_count": 30,
      "outputs": [
        {
          "output_type": "stream",
          "name": "stdout",
          "text": [
            "Country                             object\n",
            "Year                                 int64\n",
            "Status                              object\n",
            "Life expectancy                    float64\n",
            "Adult Mortality                    float64\n",
            "infant deaths                        int64\n",
            "Alcohol                            float64\n",
            "percentage expenditure             float64\n",
            "Hepatitis B                        float64\n",
            "Measles                              int64\n",
            " BMI                               float64\n",
            "under-five deaths                    int64\n",
            "Polio                              float64\n",
            "Total expenditure                  float64\n",
            "Diphtheria                         float64\n",
            " HIV/AIDS                          float64\n",
            "GDP                                float64\n",
            "Population                         float64\n",
            " thinness  1-19 years              float64\n",
            " thinness 5-9 years                float64\n",
            "Income composition of resources    float64\n",
            "Schooling                          float64\n",
            "dtype: object\n"
          ]
        }
      ]
    },
    {
      "cell_type": "markdown",
      "source": [
        "**9) ¿Hay valores faltantes en alguna de las columnas de expvida?**"
      ],
      "metadata": {
        "id": "IUKmj6QG4nhk"
      }
    },
    {
      "cell_type": "code",
      "source": [
        "expvida.isnull().sum()\n",
        "print(expvida.isnull().sum())"
      ],
      "metadata": {
        "colab": {
          "base_uri": "https://localhost:8080/"
        },
        "id": "_pjY2e0F4mqa",
        "outputId": "a103936f-98c8-49ff-f089-178dd2978c6a"
      },
      "execution_count": 31,
      "outputs": [
        {
          "output_type": "stream",
          "name": "stdout",
          "text": [
            "Country                              0\n",
            "Year                                 0\n",
            "Status                               0\n",
            "Life expectancy                     10\n",
            "Adult Mortality                     10\n",
            "infant deaths                        0\n",
            "Alcohol                            194\n",
            "percentage expenditure               0\n",
            "Hepatitis B                        553\n",
            "Measles                              0\n",
            " BMI                                34\n",
            "under-five deaths                    0\n",
            "Polio                               19\n",
            "Total expenditure                  226\n",
            "Diphtheria                          19\n",
            " HIV/AIDS                            0\n",
            "GDP                                448\n",
            "Population                         652\n",
            " thinness  1-19 years               34\n",
            " thinness 5-9 years                 34\n",
            "Income composition of resources    167\n",
            "Schooling                          163\n",
            "dtype: int64\n"
          ]
        }
      ]
    },
    {
      "cell_type": "markdown",
      "source": [
        "**10) Selecciona el maximo de datos faltantes y calcula que porcentaje de los datos representan los datos faltantes.**"
      ],
      "metadata": {
        "id": "dIQ4YWoQ82sk"
      }
    },
    {
      "cell_type": "code",
      "source": [
        "maxval= expvida.isnull().sum().max()\n",
        "print (f\"El valor máximo de datos faltantes es {maxval}\")"
      ],
      "metadata": {
        "colab": {
          "base_uri": "https://localhost:8080/"
        },
        "id": "8iP7yMNR9EbL",
        "outputId": "20aa63df-57fd-45d9-d2ee-4bbe7dc8ac12"
      },
      "execution_count": 35,
      "outputs": [
        {
          "output_type": "stream",
          "name": "stdout",
          "text": [
            "El valor máximo de datos faltantes es 652\n"
          ]
        }
      ]
    },
    {
      "cell_type": "code",
      "source": [
        "#Realizo la sumatoria de todas las celdas que contienen valores nulos.\n",
        "sumnul=expvida.isnull().sum().sum()\n",
        "print(\"La sumatoria de valores nulos es\",sumnul)\n",
        "#Realizo la multiplicacion de las filas y columnas para obtener el total de celdas\n",
        "sumfil=expvida.shape[0]\n",
        "sumcol=expvida.shape[1]\n",
        "total=sumfil*sumcol\n",
        "print(\"El total de celdas del dataset es\", total)\n",
        "#Obtengo el porcentaje que representa la sumatoria de los valores nulos sobre el total de celdas y redondeo el resultado\n",
        "porcentaje=round((sumnul/total)*100,2)\n",
        "print(f\"El porcentaje de valores nulos es {porcentaje} %\")"
      ],
      "metadata": {
        "colab": {
          "base_uri": "https://localhost:8080/"
        },
        "id": "YXOwWUaEBuxp",
        "outputId": "dfab11fe-b8d6-4d4c-b6a8-e82a3e1cd2f0"
      },
      "execution_count": 53,
      "outputs": [
        {
          "output_type": "stream",
          "name": "stdout",
          "text": [
            "La sumatoria de valores nulos es 2563\n",
            "El total de celdas del dataset es 64636\n",
            "El porcentaje de valores nulos es 3.97 %\n"
          ]
        }
      ]
    },
    {
      "cell_type": "markdown",
      "source": [
        "**11) Renombra la columna 'Life expectancy ' como 'life_expectancy', ' BMI ' como 'bmi' y ''Measles ' como 'measles'. No olvides de usar inplace para modificar el DataFrame original. Luego chequea que el cambio se haya hecho correctamente.**"
      ],
      "metadata": {
        "id": "Z7vSIBttGg1V"
      }
    },
    {
      "cell_type": "code",
      "source": [
        "expvida.rename(columns={'Life expectancy ': 'life_expectancy', ' BMI ': 'bmi', 'Measles ': 'measles'}, inplace=True)\n",
        "print(expvida.columns)"
      ],
      "metadata": {
        "colab": {
          "base_uri": "https://localhost:8080/"
        },
        "id": "cW6yb2CwFy7E",
        "outputId": "d0d637a6-3ab4-4051-dcbc-68dcd4ab9d47"
      },
      "execution_count": 23,
      "outputs": [
        {
          "output_type": "stream",
          "name": "stdout",
          "text": [
            "Index(['Country', 'Year', 'Status', 'life_expectancy', 'Adult Mortality',\n",
            "       'infant deaths', 'Alcohol', 'percentage expenditure', 'Hepatitis B',\n",
            "       'measles', 'bmi', 'under-five deaths ', 'Polio', 'Total expenditure',\n",
            "       'Diphtheria ', ' HIV/AIDS', 'GDP', 'Population',\n",
            "       ' thinness  1-19 years', ' thinness 5-9 years',\n",
            "       'Income composition of resources', 'Schooling'],\n",
            "      dtype='object')\n"
          ]
        }
      ]
    },
    {
      "cell_type": "markdown",
      "source": [
        "**12) ¿Cual es el promedio de expectativa de vida (Life expectancy) en general?**"
      ],
      "metadata": {
        "id": "WMXCKtY6IDKT"
      }
    },
    {
      "cell_type": "code",
      "source": [
        "prom_le=expvida['life_expectancy'].mean()\n",
        "prom_le=round(prom_le, )\n",
        "print(f\"El promedio de la expectativa de vida es {prom_le} %\")"
      ],
      "metadata": {
        "colab": {
          "base_uri": "https://localhost:8080/"
        },
        "id": "yu3830OtICaB",
        "outputId": "0bde1aed-96ac-4a0d-d512-1bcf2b118b25"
      },
      "execution_count": 66,
      "outputs": [
        {
          "output_type": "stream",
          "name": "stdout",
          "text": [
            "El promedio de la expectativa de vida es 69 %\n"
          ]
        }
      ]
    },
    {
      "cell_type": "markdown",
      "source": [
        "**13) ¿Cual es el promedio de expectativa de vida (Life expectancy) por país?**"
      ],
      "metadata": {
        "id": "xHL5O1XxJWsH"
      }
    },
    {
      "cell_type": "code",
      "source": [
        "prom_le_pais=expvida.groupby('Country')['life_expectancy'].mean()\n",
        "prom_le_pais=round(prom_le_pais)\n",
        "print(prom_le_pais, \"%\")"
      ],
      "metadata": {
        "colab": {
          "base_uri": "https://localhost:8080/"
        },
        "id": "dpbtgTGtJY7K",
        "outputId": "78ddf0fe-1b68-4ef2-a6bc-00a6f6f8d3e2"
      },
      "execution_count": 82,
      "outputs": [
        {
          "output_type": "stream",
          "name": "stdout",
          "text": [
            "Country\n",
            "Afghanistan                           58.0\n",
            "Albania                               75.0\n",
            "Algeria                               74.0\n",
            "Angola                                49.0\n",
            "Antigua and Barbuda                   75.0\n",
            "                                      ... \n",
            "Venezuela (Bolivarian Republic of)    73.0\n",
            "Viet Nam                              75.0\n",
            "Yemen                                 64.0\n",
            "Zambia                                54.0\n",
            "Zimbabwe                              50.0\n",
            "Name: life_expectancy, Length: 193, dtype: float64 %\n"
          ]
        }
      ]
    },
    {
      "cell_type": "markdown",
      "source": [
        "**14) ¿Cual es la expectativa de vida mas alta y mas baja? Usa la funcion de pandas y la funcion de NumPy y compara el resultado. ¿Que paises tienen esas expectativas de vida?**"
      ],
      "metadata": {
        "id": "ty5RuChwN4hC"
      }
    },
    {
      "cell_type": "code",
      "source": [
        "#usando pandas\n",
        "max_le=expvida['life_expectancy'].max()\n",
        "print(f\"La expectativa de vida más alta es {max_le} %\")\n",
        "min_le=expvida['life_expectancy'].min()\n",
        "print(f\"La expectativa de vida más baja es {min_le} %\")"
      ],
      "metadata": {
        "colab": {
          "base_uri": "https://localhost:8080/"
        },
        "id": "0d_8LL2yfRig",
        "outputId": "f910ca46-35a3-4f38-e45b-d944580aefff"
      },
      "execution_count": 87,
      "outputs": [
        {
          "output_type": "stream",
          "name": "stdout",
          "text": [
            "La expectativa de vida más alta es 89.0 %\n",
            "La expectativa de vida más baja es 36.3 %\n"
          ]
        }
      ]
    },
    {
      "cell_type": "code",
      "source": [
        "#usando numpy\n",
        "max_le=np.max(expvida['life_expectancy'])\n",
        "print(f\"La expectativa de vida más alta es {max_le} %\")\n",
        "min_le=np.min(expvida['life_expectancy'])\n",
        "print(f\"La expectativa de vida más baja es {min_le} %\")"
      ],
      "metadata": {
        "colab": {
          "base_uri": "https://localhost:8080/"
        },
        "id": "Rrw8xbsol1yz",
        "outputId": "e7736e04-3388-49f2-abf3-10861a1d0865"
      },
      "execution_count": 94,
      "outputs": [
        {
          "output_type": "stream",
          "name": "stdout",
          "text": [
            "La expectativa de vida más alta es 89.0 %\n",
            "La expectativa de vida más baja es 36.3 %\n"
          ]
        }
      ]
    },
    {
      "cell_type": "code",
      "source": [
        "#obtengo solo el nombre de los países que tienen el valor maximo y minimo en expectativa de vida\n",
        "paises_max_le=expvida.loc[expvida['life_expectancy'] == max_le, 'Country']\n",
        "paises_min_le=expvida.loc[expvida['life_expectancy'] == min_le, 'Country']\n",
        "print (f\"Los países con la expectativa de vida más alta son {paises_max_le.to_string(index=False)}\")\n",
        "print (f\"Los países con la expectativa de vida más baja es {paises_min_le.to_string(index=False)}\")\n"
      ],
      "metadata": {
        "colab": {
          "base_uri": "https://localhost:8080/"
        },
        "id": "fI07wSjjmFiU",
        "outputId": "b76c8520-5579-4e10-c9dd-807028bc91c0"
      },
      "execution_count": 101,
      "outputs": [
        {
          "output_type": "stream",
          "name": "stdout",
          "text": [
            "Los países con la expectativa de vida más alta son     Belgium\n",
            "    Finland\n",
            "     France\n",
            "     France\n",
            "    Germany\n",
            "      Italy\n",
            "New Zealand\n",
            "     Norway\n",
            "   Portugal\n",
            "      Spain\n",
            "     Sweden\n",
            "Los países con la expectativa de vida más baja es Haiti\n"
          ]
        }
      ]
    },
    {
      "cell_type": "markdown",
      "source": [
        "**15) ¿Cuantas categorias encontramos en la columna \"Status\"? Pista: Lee acerca de la función unique()**"
      ],
      "metadata": {
        "id": "aYRs0Prop9Hf"
      }
    },
    {
      "cell_type": "code",
      "source": [
        "# Obtengo los valores unicos de la columna status\n",
        "valores_unicos = expvida['Status'].unique()\n",
        "print(valores_unicos)"
      ],
      "metadata": {
        "colab": {
          "base_uri": "https://localhost:8080/"
        },
        "id": "JV1grAYSqFL6",
        "outputId": "3d56a53a-6433-4be3-cfff-3abcbab23096"
      },
      "execution_count": 102,
      "outputs": [
        {
          "output_type": "stream",
          "name": "stdout",
          "text": [
            "['Developing' 'Developed']\n"
          ]
        }
      ]
    },
    {
      "cell_type": "markdown",
      "source": [
        "**16) ¿Cuantos paises se ubican en cada una de esas categorias de \"Status\"? Pista: Lee acerca de la función value_counts()**\n",
        "\n",
        "\n"
      ],
      "metadata": {
        "id": "h2tPsnZ_qr3s"
      }
    },
    {
      "cell_type": "code",
      "source": [
        "expvida.groupby('Status')['Country'].value_counts()\n"
      ],
      "metadata": {
        "colab": {
          "base_uri": "https://localhost:8080/",
          "height": 490
        },
        "id": "Hh8ItI2-qwHA",
        "outputId": "38c29298-8ba5-4aae-acc2-8b0a6f651c41"
      },
      "execution_count": 9,
      "outputs": [
        {
          "output_type": "execute_result",
          "data": {
            "text/plain": [
              "Status      Country              \n",
              "Developed   Australia                16\n",
              "            Austria                  16\n",
              "            Belgium                  16\n",
              "            Bulgaria                 16\n",
              "            Croatia                  16\n",
              "                                     ..\n",
              "Developing  Niue                      1\n",
              "            Palau                     1\n",
              "            Saint Kitts and Nevis     1\n",
              "            San Marino                1\n",
              "            Tuvalu                    1\n",
              "Name: count, Length: 193, dtype: int64"
            ],
            "text/html": [
              "<div>\n",
              "<style scoped>\n",
              "    .dataframe tbody tr th:only-of-type {\n",
              "        vertical-align: middle;\n",
              "    }\n",
              "\n",
              "    .dataframe tbody tr th {\n",
              "        vertical-align: top;\n",
              "    }\n",
              "\n",
              "    .dataframe thead th {\n",
              "        text-align: right;\n",
              "    }\n",
              "</style>\n",
              "<table border=\"1\" class=\"dataframe\">\n",
              "  <thead>\n",
              "    <tr style=\"text-align: right;\">\n",
              "      <th></th>\n",
              "      <th></th>\n",
              "      <th>count</th>\n",
              "    </tr>\n",
              "    <tr>\n",
              "      <th>Status</th>\n",
              "      <th>Country</th>\n",
              "      <th></th>\n",
              "    </tr>\n",
              "  </thead>\n",
              "  <tbody>\n",
              "    <tr>\n",
              "      <th rowspan=\"5\" valign=\"top\">Developed</th>\n",
              "      <th>Australia</th>\n",
              "      <td>16</td>\n",
              "    </tr>\n",
              "    <tr>\n",
              "      <th>Austria</th>\n",
              "      <td>16</td>\n",
              "    </tr>\n",
              "    <tr>\n",
              "      <th>Belgium</th>\n",
              "      <td>16</td>\n",
              "    </tr>\n",
              "    <tr>\n",
              "      <th>Bulgaria</th>\n",
              "      <td>16</td>\n",
              "    </tr>\n",
              "    <tr>\n",
              "      <th>Croatia</th>\n",
              "      <td>16</td>\n",
              "    </tr>\n",
              "    <tr>\n",
              "      <th>...</th>\n",
              "      <th>...</th>\n",
              "      <td>...</td>\n",
              "    </tr>\n",
              "    <tr>\n",
              "      <th rowspan=\"5\" valign=\"top\">Developing</th>\n",
              "      <th>Niue</th>\n",
              "      <td>1</td>\n",
              "    </tr>\n",
              "    <tr>\n",
              "      <th>Palau</th>\n",
              "      <td>1</td>\n",
              "    </tr>\n",
              "    <tr>\n",
              "      <th>Saint Kitts and Nevis</th>\n",
              "      <td>1</td>\n",
              "    </tr>\n",
              "    <tr>\n",
              "      <th>San Marino</th>\n",
              "      <td>1</td>\n",
              "    </tr>\n",
              "    <tr>\n",
              "      <th>Tuvalu</th>\n",
              "      <td>1</td>\n",
              "    </tr>\n",
              "  </tbody>\n",
              "</table>\n",
              "<p>193 rows × 1 columns</p>\n",
              "</div><br><label><b>dtype:</b> int64</label>"
            ]
          },
          "metadata": {},
          "execution_count": 9
        }
      ]
    },
    {
      "cell_type": "code",
      "source": [
        "expvida.groupby('Status')['Country'].value_counts()\n"
      ],
      "metadata": {
        "colab": {
          "base_uri": "https://localhost:8080/",
          "height": 0
        },
        "outputId": "cdbef08c-e737-4fce-e7ca-d9088b327308",
        "collapsed": true,
        "id": "qWI82l1Hl8Eq"
      },
      "execution_count": 11,
      "outputs": [
        {
          "output_type": "execute_result",
          "data": {
            "text/plain": [
              "Status      Country              \n",
              "Developed   Australia                16\n",
              "            Austria                  16\n",
              "            Belgium                  16\n",
              "            Bulgaria                 16\n",
              "            Croatia                  16\n",
              "                                     ..\n",
              "Developing  Niue                      1\n",
              "            Palau                     1\n",
              "            Saint Kitts and Nevis     1\n",
              "            San Marino                1\n",
              "            Tuvalu                    1\n",
              "Name: count, Length: 193, dtype: int64"
            ],
            "text/html": [
              "<div>\n",
              "<style scoped>\n",
              "    .dataframe tbody tr th:only-of-type {\n",
              "        vertical-align: middle;\n",
              "    }\n",
              "\n",
              "    .dataframe tbody tr th {\n",
              "        vertical-align: top;\n",
              "    }\n",
              "\n",
              "    .dataframe thead th {\n",
              "        text-align: right;\n",
              "    }\n",
              "</style>\n",
              "<table border=\"1\" class=\"dataframe\">\n",
              "  <thead>\n",
              "    <tr style=\"text-align: right;\">\n",
              "      <th></th>\n",
              "      <th></th>\n",
              "      <th>count</th>\n",
              "    </tr>\n",
              "    <tr>\n",
              "      <th>Status</th>\n",
              "      <th>Country</th>\n",
              "      <th></th>\n",
              "    </tr>\n",
              "  </thead>\n",
              "  <tbody>\n",
              "    <tr>\n",
              "      <th rowspan=\"5\" valign=\"top\">Developed</th>\n",
              "      <th>Australia</th>\n",
              "      <td>16</td>\n",
              "    </tr>\n",
              "    <tr>\n",
              "      <th>Austria</th>\n",
              "      <td>16</td>\n",
              "    </tr>\n",
              "    <tr>\n",
              "      <th>Belgium</th>\n",
              "      <td>16</td>\n",
              "    </tr>\n",
              "    <tr>\n",
              "      <th>Bulgaria</th>\n",
              "      <td>16</td>\n",
              "    </tr>\n",
              "    <tr>\n",
              "      <th>Croatia</th>\n",
              "      <td>16</td>\n",
              "    </tr>\n",
              "    <tr>\n",
              "      <th>...</th>\n",
              "      <th>...</th>\n",
              "      <td>...</td>\n",
              "    </tr>\n",
              "    <tr>\n",
              "      <th rowspan=\"5\" valign=\"top\">Developing</th>\n",
              "      <th>Niue</th>\n",
              "      <td>1</td>\n",
              "    </tr>\n",
              "    <tr>\n",
              "      <th>Palau</th>\n",
              "      <td>1</td>\n",
              "    </tr>\n",
              "    <tr>\n",
              "      <th>Saint Kitts and Nevis</th>\n",
              "      <td>1</td>\n",
              "    </tr>\n",
              "    <tr>\n",
              "      <th>San Marino</th>\n",
              "      <td>1</td>\n",
              "    </tr>\n",
              "    <tr>\n",
              "      <th>Tuvalu</th>\n",
              "      <td>1</td>\n",
              "    </tr>\n",
              "  </tbody>\n",
              "</table>\n",
              "<p>193 rows × 1 columns</p>\n",
              "</div><br><label><b>dtype:</b> int64</label>"
            ]
          },
          "metadata": {},
          "execution_count": 11
        }
      ]
    },
    {
      "cell_type": "code",
      "source": [
        "expvida['Status'].value_counts()"
      ],
      "metadata": {
        "colab": {
          "base_uri": "https://localhost:8080/",
          "height": 178
        },
        "id": "u-PVgB4cmFSU",
        "outputId": "54eb06e2-df52-4a0a-e2e7-f4d01d735c41"
      },
      "execution_count": 12,
      "outputs": [
        {
          "output_type": "execute_result",
          "data": {
            "text/plain": [
              "Status\n",
              "Developing    2426\n",
              "Developed      512\n",
              "Name: count, dtype: int64"
            ],
            "text/html": [
              "<div>\n",
              "<style scoped>\n",
              "    .dataframe tbody tr th:only-of-type {\n",
              "        vertical-align: middle;\n",
              "    }\n",
              "\n",
              "    .dataframe tbody tr th {\n",
              "        vertical-align: top;\n",
              "    }\n",
              "\n",
              "    .dataframe thead th {\n",
              "        text-align: right;\n",
              "    }\n",
              "</style>\n",
              "<table border=\"1\" class=\"dataframe\">\n",
              "  <thead>\n",
              "    <tr style=\"text-align: right;\">\n",
              "      <th></th>\n",
              "      <th>count</th>\n",
              "    </tr>\n",
              "    <tr>\n",
              "      <th>Status</th>\n",
              "      <th></th>\n",
              "    </tr>\n",
              "  </thead>\n",
              "  <tbody>\n",
              "    <tr>\n",
              "      <th>Developing</th>\n",
              "      <td>2426</td>\n",
              "    </tr>\n",
              "    <tr>\n",
              "      <th>Developed</th>\n",
              "      <td>512</td>\n",
              "    </tr>\n",
              "  </tbody>\n",
              "</table>\n",
              "</div><br><label><b>dtype:</b> int64</label>"
            ]
          },
          "metadata": {},
          "execution_count": 12
        }
      ]
    },
    {
      "cell_type": "markdown",
      "source": [
        "**17) ¿Cuantos paises presentaron algun caso de Sarampion (Measles) en el 2015? Pista: Lee acerca de la función .count()**"
      ],
      "metadata": {
        "id": "BruzySzZrg4o"
      }
    },
    {
      "cell_type": "code",
      "source": [
        "#Todos los valores del año 2015\n",
        "sarampion_year = expvida[(expvida['Year'] == 2015)]\n",
        "#Sumatoria de casos de sarampion en el 2015 (no se pidió, pero lo calculé para practicar)\n",
        "Sumat_casos = sarampion_year['measles'].count()\n",
        "print(f\"La sumatoria de casos de sarampión en 2015 es: {Sumat_casos}\")\n",
        "#Filtro la tabla sarampion_year para saber los paises que poseen uno o mas casos de sarampión\n",
        "sarampion_country = sarampion_year[sarampion_year['measles'] > 0]\n",
        "sarampion_count = sarampion_country['Country'].nunique()\n",
        "print(\"Total de paises con casos\", sarampion_count)\n"
      ],
      "metadata": {
        "colab": {
          "base_uri": "https://localhost:8080/"
        },
        "collapsed": true,
        "id": "5ZE1KZuDsmne",
        "outputId": "fe2cf012-58ef-469b-9533-6839368f0284"
      },
      "execution_count": 35,
      "outputs": [
        {
          "output_type": "stream",
          "name": "stdout",
          "text": [
            "La sumatoria de casos de sarampión en 2015 es: 183\n",
            "Total de paises con casos 121\n"
          ]
        }
      ]
    }
  ]
}