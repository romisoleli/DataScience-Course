{
  "nbformat": 4,
  "nbformat_minor": 0,
  "metadata": {
    "kernelspec": {
      "display_name": "Python 3",
      "language": "python",
      "name": "python3"
    },
    "language_info": {
      "codemirror_mode": {
        "name": "ipython",
        "version": 3
      },
      "file_extension": ".py",
      "mimetype": "text/x-python",
      "name": "python",
      "nbconvert_exporter": "python",
      "pygments_lexer": "ipython3",
      "version": "3.7.3"
    },
    "colab": {
      "provenance": [],
      "include_colab_link": true
    }
  },
  "cells": [
    {
      "cell_type": "markdown",
      "metadata": {
        "id": "view-in-github",
        "colab_type": "text"
      },
      "source": [
        "<a href=\"https://colab.research.google.com/github/romisoleli/DataScience-Course/blob/main/Notebook5.ipynb\" target=\"_parent\"><img src=\"https://colab.research.google.com/assets/colab-badge.svg\" alt=\"Open In Colab\"/></a>"
      ]
    },
    {
      "cell_type": "markdown",
      "metadata": {
        "id": "Gp2WddtV9IwG"
      },
      "source": [
        "# Programa Ingenias+ Data Science"
      ]
    },
    {
      "cell_type": "markdown",
      "metadata": {
        "id": "X03mviQS9IyL"
      },
      "source": [
        "# Ejercicios\n",
        "\n",
        "1. Crear un arreglo de ceros de longitud 12\n",
        "2. Crear un arreglo de longitud 10 con ceros en todas sus posiciones y un 10 en la posición número 5\n",
        "3. Crear un arreglo que tenga los números del 10 al 49\n",
        "4. Crear una arreglo 2d de shape (3, 3) que tenga los números del 0 al 8\n",
        "5. Crear un arreglo de números aleatorios de longitud 100 y obtener su media y varianza\n",
        "6. Calcular la media de un arreglo usando np.sum\n",
        "7. Calcular la varianza de un arreglo usando np.sum y np.mean\n",
        "8. Crear un array de números aleatorios usando np.random.randn.\n"
      ]
    },
    {
      "cell_type": "code",
      "source": [
        "#Importar numpy\n",
        "import numpy as np"
      ],
      "metadata": {
        "id": "_Ml6ucHAe0dr"
      },
      "execution_count": 1,
      "outputs": []
    },
    {
      "cell_type": "code",
      "source": [
        "#1\n",
        "array_12 = np.zeros(12, dtype=int)\n",
        "print(array_12)"
      ],
      "metadata": {
        "id": "bDHUnDG-e0TB",
        "colab": {
          "base_uri": "https://localhost:8080/"
        },
        "outputId": "787fdbae-1819-45ec-9885-009ebba3dc9c"
      },
      "execution_count": null,
      "outputs": [
        {
          "output_type": "stream",
          "name": "stdout",
          "text": [
            "[0 0 0 0 0 0 0 0 0 0 0 0]\n"
          ]
        }
      ]
    },
    {
      "cell_type": "code",
      "source": [
        "#2\n",
        "array_10 = np.zeros(10)\n",
        "array_10[4] = 10\n",
        "print(array)\n"
      ],
      "metadata": {
        "colab": {
          "base_uri": "https://localhost:8080/"
        },
        "outputId": "3e6e7df2-ee30-4a0f-9741-01720a24046c",
        "id": "UZfVdgc5kjj7"
      },
      "execution_count": null,
      "outputs": [
        {
          "output_type": "stream",
          "name": "stdout",
          "text": [
            "[ 0.  0.  0.  0. 10.  0.  0.  0.  0.  0.]\n"
          ]
        }
      ]
    },
    {
      "cell_type": "code",
      "source": [
        "#3\n",
        "array_1049= np.arange (10,50)\n",
        "print (array_1049)"
      ],
      "metadata": {
        "id": "M3TJDCz1g-i7",
        "colab": {
          "base_uri": "https://localhost:8080/"
        },
        "outputId": "687a2b1f-8ca0-4507-dad8-9f84bc1dfe80"
      },
      "execution_count": null,
      "outputs": [
        {
          "output_type": "stream",
          "name": "stdout",
          "text": [
            "[10 11 12 13 14 15 16 17 18 19 20 21 22 23 24 25 26 27 28 29 30 31 32 33\n",
            " 34 35 36 37 38 39 40 41 42 43 44 45 46 47 48 49]\n"
          ]
        }
      ]
    },
    {
      "cell_type": "code",
      "source": [
        "#4\n",
        "array_4 = np.arange(9).reshape(3, 3)\n",
        "print(array_4)"
      ],
      "metadata": {
        "id": "IWBKX2tKguGs",
        "colab": {
          "base_uri": "https://localhost:8080/"
        },
        "outputId": "fccb6939-77c6-4d6c-e431-08ccc881b8ec"
      },
      "execution_count": null,
      "outputs": [
        {
          "output_type": "stream",
          "name": "stdout",
          "text": [
            "[[0 1 2]\n",
            " [3 4 5]\n",
            " [6 7 8]]\n"
          ]
        }
      ]
    },
    {
      "cell_type": "code",
      "source": [
        "#5\n",
        "array_aleat = np.random.random(100)\n",
        "print (array_aleat)\n",
        "media = np.mean(array_5)\n",
        "varianza = np.var(array_5)\n",
        "print(\"Media:\", media)\n",
        "print(\"Varianza:\", varianza)\n"
      ],
      "metadata": {
        "id": "N8mMKTPGf_Vu",
        "colab": {
          "base_uri": "https://localhost:8080/"
        },
        "outputId": "52cc82f9-92f3-49da-8430-94b6cac25b5f"
      },
      "execution_count": null,
      "outputs": [
        {
          "output_type": "stream",
          "name": "stdout",
          "text": [
            "[0.50624933 0.77446333 0.11210443 0.69705571 0.76818989 0.60307568\n",
            " 0.93841676 0.26482931 0.27598963 0.37396341 0.45822669 0.8974631\n",
            " 0.46499064 0.05363654 0.46165248 0.86156462 0.8970085  0.42993353\n",
            " 0.30362345 0.04197877 0.69954959 0.54214711 0.37605204 0.79344032\n",
            " 0.22968239 0.68042716 0.49102472 0.92327356 0.78092469 0.41732088\n",
            " 0.67589051 0.44938145 0.88999389 0.85537476 0.4493363  0.04250811\n",
            " 0.22022564 0.89593473 0.02515685 0.59866646 0.71100491 0.63845321\n",
            " 0.02489064 0.68944798 0.9339832  0.67079735 0.81480548 0.56586194\n",
            " 0.99976301 0.49564057 0.16757471 0.47237625 0.4805297  0.03126124\n",
            " 0.34867097 0.24192176 0.07179055 0.68287062 0.809193   0.27126479\n",
            " 0.55301732 0.11541642 0.35961142 0.99374371 0.08647373 0.98708884\n",
            " 0.65715785 0.90400017 0.06745681 0.81429574 0.60265431 0.97219168\n",
            " 0.88286018 0.49074354 0.47512819 0.99194708 0.53246538 0.29366697\n",
            " 0.64427532 0.5128062  0.49510134 0.90325485 0.46834556 0.96208224\n",
            " 0.06100658 0.07374235 0.03301465 0.79408883 0.81367787 0.67988033\n",
            " 0.33155528 0.88749415 0.05228501 0.12401069 0.42737719 0.27330004\n",
            " 0.48063131 0.98487935 0.78601548 0.09474805]\n",
            "Media: 0.5267378923235195\n",
            "Varianza: 0.0786315247960084\n"
          ]
        }
      ]
    },
    {
      "cell_type": "code",
      "source": [
        "#6\n",
        "array_med = np.random.random(100)\n",
        "media_sum = np.sum(array_med) / len(array_med)\n",
        "print(\"Media calculada con np.sum:\", media_sum)"
      ],
      "metadata": {
        "id": "Cly9U6BDez8E",
        "colab": {
          "base_uri": "https://localhost:8080/"
        },
        "outputId": "dd3fda3c-7af7-40cb-bff3-135800b9daa7"
      },
      "execution_count": null,
      "outputs": [
        {
          "output_type": "stream",
          "name": "stdout",
          "text": [
            "Media calculada con np.sum: 0.492129816132734\n"
          ]
        }
      ]
    },
    {
      "cell_type": "code",
      "source": [
        "#7\n",
        "array_aleat = np.random.random(100)\n",
        "array_med= np.mean(array_aleat)\n",
        "varianza_7 = np.sum((array_aleat - array_med) ** 2) / len(array_aleat)\n",
        "print(\"Varianza calculada con np.sum:\", varianza_7)"
      ],
      "metadata": {
        "colab": {
          "base_uri": "https://localhost:8080/"
        },
        "id": "SzIMqgYVu9RE",
        "outputId": "52f6125f-ad14-4f14-d78b-258c209514db"
      },
      "execution_count": null,
      "outputs": [
        {
          "output_type": "stream",
          "name": "stdout",
          "text": [
            "Varianza calculada con np.sum: 0.07344888484050696\n"
          ]
        }
      ]
    },
    {
      "cell_type": "code",
      "source": [
        "#8\n",
        "array_aleat = np.random.random(20)\n",
        "print(array_aleat)"
      ],
      "metadata": {
        "colab": {
          "base_uri": "https://localhost:8080/"
        },
        "id": "xQZp6GOyw-k9",
        "outputId": "ab5abd26-b082-4847-b2f8-1f1f7b838d69"
      },
      "execution_count": null,
      "outputs": [
        {
          "output_type": "stream",
          "name": "stdout",
          "text": [
            "[0.90194674 0.56110217 0.98435874 0.18671933 0.16291543 0.07137788\n",
            " 0.73161959 0.59243932 0.93868748 0.58604758 0.05189455 0.05961803\n",
            " 0.33784256 0.45414622 0.22308393 0.31192093 0.25674333 0.54359744\n",
            " 0.9605097  0.89636966]\n"
          ]
        }
      ]
    }
  ]
}